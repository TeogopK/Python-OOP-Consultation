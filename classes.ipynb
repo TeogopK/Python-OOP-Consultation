{
 "cells": [
  {
   "cell_type": "markdown",
   "metadata": {},
   "source": [
    "# Classes"
   ]
  },
  {
   "cell_type": "markdown",
   "metadata": {},
   "source": [
    "Let's create a simple class Person with an attribute first name:"
   ]
  },
  {
   "cell_type": "code",
   "execution_count": null,
   "metadata": {},
   "outputs": [],
   "source": [
    "class Person:\n",
    "    def __init__(self, first_name):\n",
    "        self.first_name = first_name\n"
   ]
  },
  {
   "cell_type": "markdown",
   "metadata": {},
   "source": [
    "We can create an object from this class and access its attribute:"
   ]
  },
  {
   "cell_type": "code",
   "execution_count": null,
   "metadata": {},
   "outputs": [],
   "source": [
    "p = Person(\"Dani\")\n",
    "p.first_name"
   ]
  },
  {
   "cell_type": "markdown",
   "metadata": {},
   "source": [
    "Let's extend the class by adding a method to it:"
   ]
  },
  {
   "cell_type": "code",
   "execution_count": null,
   "metadata": {},
   "outputs": [],
   "source": [
    "class Person:\n",
    "    def __init__(self, first_name):\n",
    "        self.first_name = first_name\n",
    "    \n",
    "    def greet(self, name):\n",
    "        print(f\"Hello there, {name}!\")"
   ]
  },
  {
   "cell_type": "markdown",
   "metadata": {},
   "source": [
    "We can call the method via an instance of the class:"
   ]
  },
  {
   "cell_type": "code",
   "execution_count": null,
   "metadata": {},
   "outputs": [],
   "source": [
    "p = Person(\"Mitko\")\n",
    "p.greet(\"Delyan\")"
   ]
  },
  {
   "cell_type": "markdown",
   "metadata": {},
   "source": [
    "Note that everything in Python is an object, including functions (First-class citizen):"
   ]
  },
  {
   "cell_type": "code",
   "execution_count": null,
   "metadata": {},
   "outputs": [],
   "source": [
    "my_greeting = p.greet\n",
    "my_greeting(\"students\")"
   ]
  },
  {
   "cell_type": "markdown",
   "metadata": {},
   "source": [
    "We can compare two objects of class Person:"
   ]
  },
  {
   "cell_type": "code",
   "execution_count": null,
   "metadata": {},
   "outputs": [],
   "source": [
    "p1 = Person(\"Ivan\")\n",
    "p2 = Person(\"Mariq\")\n",
    "\n",
    "print(p1 == p2)\n",
    "print(p1 is p2)"
   ]
  },
  {
   "cell_type": "markdown",
   "metadata": {},
   "source": [
    "By default \"==\" compares using \"is\", which compares based on the id of the object:"
   ]
  },
  {
   "cell_type": "code",
   "execution_count": null,
   "metadata": {},
   "outputs": [],
   "source": [
    "ivan1 = Person(\"Ivan\")\n",
    "ivan2 = Person(\"Ivan\")\n",
    "\n",
    "print(ivan1 == ivan2)\n",
    "print(ivan1 is ivan2)\n",
    "print(id(ivan1), id(ivan2))"
   ]
  },
  {
   "cell_type": "markdown",
   "metadata": {},
   "source": [
    "Let's add our custom compare logic:"
   ]
  },
  {
   "cell_type": "code",
   "execution_count": null,
   "metadata": {},
   "outputs": [],
   "source": [
    "class Person:\n",
    "    def __init__(self, first_name, egn):\n",
    "        self.first_name = first_name\n",
    "        self._egn = egn # protected attribute\n",
    "    \n",
    "    def greet(self, name):\n",
    "        print(f\"Hello there, {name}!\")\n",
    "\n",
    "    def __eq__(self, other):\n",
    "        return self._egn == other._egn"
   ]
  },
  {
   "cell_type": "markdown",
   "metadata": {},
   "source": [
    "Now comparison is based only on the _egn attribute:"
   ]
  },
  {
   "cell_type": "code",
   "execution_count": null,
   "metadata": {},
   "outputs": [],
   "source": [
    "p1 = Person(\"Ivan\", 9904)\n",
    "p2 = Person(\"Mariq\", 9904)\n",
    "\n",
    "print(p1 == p2)\n",
    "print(p1 is p2)\n",
    "print(id(p1), id(p2))"
   ]
  },
  {
   "cell_type": "markdown",
   "metadata": {},
   "source": [
    "There are other special methods (Dunder methods) that are useful for defying custom logic such as comparisons, arithmetic operations, string representations, etc."
   ]
  },
  {
   "cell_type": "code",
   "execution_count": null,
   "metadata": {},
   "outputs": [],
   "source": [
    "class Person:\n",
    "    def __init__(self, first_name, egn, age):\n",
    "        self.first_name = first_name\n",
    "        self._egn = egn  # protected attribute\n",
    "        self.age = age\n",
    "\n",
    "    def greet(self, name):\n",
    "        print(f\"Hello there, {name}!\")\n",
    "\n",
    "    def __eq__(self, other):\n",
    "        return self._egn == other._egn\n",
    "\n",
    "    def __gt__(self, other):\n",
    "        return self._egn < other._egn\n",
    "\n",
    "    def __add__(self, other):\n",
    "        return self.age + other.age\n",
    "\n",
    "    def __mul__(self, other):\n",
    "        return Person(self.first_name[:len(self.first_name)//2]\n",
    "                      + other.first_name[len(other.first_name)//2::], 0, 0)\n",
    "\n",
    "    def __str__(self):\n",
    "        return f\"[Person name {self.first_name}, Egn: {self._egn}, Age: {self.age}]\""
   ]
  },
  {
   "cell_type": "markdown",
   "metadata": {},
   "source": [
    "Now we can play with the defined arithmetics between people:"
   ]
  },
  {
   "cell_type": "code",
   "execution_count": null,
   "metadata": {},
   "outputs": [],
   "source": [
    "p1 = Person(\"Rado\", 9604, 28)\n",
    "p2 = Person(\"Alex\", 9901, 25)\n",
    "\n",
    "print(p1)\n",
    "print(p2)\n",
    "print(p1 > p2)\n",
    "print(p1 + p2)\n",
    "print(p1 * p2)"
   ]
  },
  {
   "cell_type": "markdown",
   "metadata": {},
   "source": [
    "We can access and modify the attributes of an object by using the functions *getattr* and *setattr*:"
   ]
  },
  {
   "cell_type": "code",
   "execution_count": null,
   "metadata": {},
   "outputs": [],
   "source": [
    "p1 = Person(\"Rado\", 9604, 28)\n",
    "print(getattr(p1, 'first_name'))\n",
    "\n",
    "setattr(p1, 'first_name', 'Radomir')\n",
    "print(getattr(p1, 'first_name'))"
   ]
  },
  {
   "cell_type": "markdown",
   "metadata": {},
   "source": [
    "A *staticmethod* is a method that knows nothing about the class or instance it was called on. It just gets the arguments that were passed, no implicit first argument.\n",
    "\n",
    "A *classmethod*, on the other hand, is a method that gets passed the class it was called on, or the class of the instance it was called on, as first argument."
   ]
  },
  {
   "cell_type": "code",
   "execution_count": null,
   "metadata": {},
   "outputs": [],
   "source": [
    "from datetime import datetime\n",
    "\n",
    "class Person:\n",
    "    population_count = 0\n",
    "    \n",
    "    def __init__(self, first_name, age):\n",
    "        Person.population_count += 1\n",
    "        self.first_name = first_name\n",
    "        self._egn = Person.population_count\n",
    "        self.age = age\n",
    "\n",
    "    @staticmethod\n",
    "    def get_todays_date():\n",
    "        return datetime.today().date()\n",
    "\n",
    "    @classmethod\n",
    "    def get_population_message(cls):\n",
    "        date = str(cls.get_todays_date())\n",
    "        return f\"The world has exactly {cls.population_count} creatures as per {date}!\"\n",
    "\n",
    "    def greet(self, name):\n",
    "        print(f\"Hello there, {name}!\")\n",
    "\n",
    "    def __eq__(self, other):\n",
    "        return self._egn == other._egn\n",
    "\n",
    "    def __gt__(self, other):\n",
    "        return self._egn < other._egn\n",
    "\n",
    "    def __add__(self, other):\n",
    "        return self.age + other.age\n",
    "\n",
    "    def __mul__(self, other):\n",
    "        return Person(self.first_name[:len(self.first_name)//2]\n",
    "                      + other.first_name[len(other.first_name)//2::], 0)\n",
    "\n",
    "    def __str__(self):\n",
    "        return f\"[Person name {self.first_name}, Egn: {self._egn}, Age: {self.age}]\""
   ]
  },
  {
   "cell_type": "markdown",
   "metadata": {},
   "source": [
    "These methods can be called directly from the class and do not need an instance of the class:"
   ]
  },
  {
   "cell_type": "code",
   "execution_count": null,
   "metadata": {},
   "outputs": [],
   "source": [
    "print(Person.get_population_message())\n",
    "\n",
    "p1 = Person(\"Rado\", 28)\n",
    "p2 = Person(\"Alex\", 25)\n",
    "\n",
    "print(p1)\n",
    "print(p2)\n",
    "\n",
    "print(Person.get_population_message())"
   ]
  },
  {
   "cell_type": "code",
   "execution_count": null,
   "metadata": {},
   "outputs": [],
   "source": [
    "p3 = p1 * p2\n",
    "print(p3)\n",
    "print(Person.get_population_message())"
   ]
  },
  {
   "cell_type": "markdown",
   "metadata": {},
   "source": [
    "Let's simplify the Person class:"
   ]
  },
  {
   "cell_type": "code",
   "execution_count": null,
   "metadata": {},
   "outputs": [],
   "source": [
    "class Person:\n",
    "    def __init__(self, first_name, egn):\n",
    "        self.first_name = first_name\n",
    "        self._egn = egn # protected attribute\n",
    "    \n",
    "    def greet(self, name):\n",
    "        print(f\"Hello there, {name}!\")\n",
    "\n",
    "    def nickname(self):\n",
    "        return self.first_name[:len(self.first_name)//2 + 1]"
   ]
  },
  {
   "cell_type": "markdown",
   "metadata": {},
   "source": [
    "And define a simple functions that returns the nickname of the person:"
   ]
  },
  {
   "cell_type": "code",
   "execution_count": null,
   "metadata": {},
   "outputs": [],
   "source": [
    "p1 = Person(\"Nikolay\", 9912)\n",
    "p1.nickname()"
   ]
  },
  {
   "cell_type": "markdown",
   "metadata": {},
   "source": [
    "By using the *property* decorator we can modify a function to be seen as an attribute to the class:"
   ]
  },
  {
   "cell_type": "code",
   "execution_count": null,
   "metadata": {},
   "outputs": [],
   "source": [
    "class Person:\n",
    "    def __init__(self, first_name, egn):\n",
    "        self.first_name = first_name\n",
    "        self._egn = egn\n",
    "    \n",
    "    def greet(self, name):\n",
    "        print(f\"Hello there, {name}!\")\n",
    "\n",
    "    @property\n",
    "    def nickname(self):\n",
    "        return self.first_name[:len(self.first_name)//2 + 1]"
   ]
  },
  {
   "cell_type": "code",
   "execution_count": null,
   "metadata": {},
   "outputs": [],
   "source": [
    "p1 = Person(\"Nikolay\", 9912)\n",
    "p1.nickname"
   ]
  },
  {
   "cell_type": "markdown",
   "metadata": {},
   "source": [
    "But what will happen if first name was not a string?"
   ]
  },
  {
   "cell_type": "code",
   "execution_count": null,
   "metadata": {},
   "outputs": [],
   "source": [
    "try:\n",
    "    p1 = Person(True, 9912)\n",
    "    p1.nickname\n",
    "except Exception as e:\n",
    "    print(e)"
   ]
  },
  {
   "cell_type": "markdown",
   "metadata": {},
   "source": [
    "Properties are great because they allow us to add custom logic and checks to the initializing phase as well:"
   ]
  },
  {
   "cell_type": "code",
   "execution_count": null,
   "metadata": {},
   "outputs": [],
   "source": [
    "class Person:\n",
    "    def __init__(self, first_name, egn):\n",
    "        self.first_name = first_name\n",
    "        self._egn = egn\n",
    "    \n",
    "    def greet(self, name):\n",
    "        print(f\"Hello there, {name}!\")\n",
    "\n",
    "    @property\n",
    "    def nickname(self):\n",
    "        return self.first_name[:len(self.first_name)//2 + 1]\n",
    "    \n",
    "    @property\n",
    "    def first_name(self):\n",
    "        return self._first_name\n",
    "    \n",
    "    @first_name.setter\n",
    "    def first_name(self, value):\n",
    "        if not isinstance(value, str):\n",
    "            self._first_name = \"John\"\n",
    "            return\n",
    "          \n",
    "        self._first_name = value"
   ]
  },
  {
   "cell_type": "markdown",
   "metadata": {},
   "source": [
    "Now if something goes wrong along the initialization of the first name, there is a case that will catch the error and handle it appropriately:"
   ]
  },
  {
   "cell_type": "code",
   "execution_count": null,
   "metadata": {},
   "outputs": [],
   "source": [
    "p1 = Person(\"Nikolay\", 9912)\n",
    "print(p1.first_name)\n",
    "\n",
    "p2 = Person(None, 9913)\n",
    "print(p2.first_name)"
   ]
  },
  {
   "cell_type": "markdown",
   "metadata": {},
   "source": [
    "Let's create a subclass Student from our Person class:"
   ]
  },
  {
   "cell_type": "code",
   "execution_count": null,
   "metadata": {},
   "outputs": [],
   "source": [
    "class Person:\n",
    "    def __init__(self, first_name, egn):\n",
    "        self.first_name = first_name\n",
    "        self._egn = egn\n",
    "    \n",
    "    def greet(self, name):\n",
    "        print(f\"Hello there, {name}!\")\n",
    "\n",
    "class Student(Person):\n",
    "    def __init__(self, first_name, egn, fn):\n",
    "        self.fn = fn\n",
    "        super().__init__(first_name, egn)\n",
    "\n",
    "    def introduce(self):\n",
    "        print(f\"Yo, man, this is {self.first_name}! My fn is {self.fn}.\")\n"
   ]
  },
  {
   "cell_type": "markdown",
   "metadata": {},
   "source": [
    "We can see that an instance of class Student still has the methods of its parent class:"
   ]
  },
  {
   "cell_type": "code",
   "execution_count": null,
   "metadata": {},
   "outputs": [],
   "source": [
    "s1 = Student(\"Brad\", 1234, \"4MI0900012\")\n",
    "s1.greet(\"Teacher\")\n",
    "s1.introduce()"
   ]
  },
  {
   "cell_type": "markdown",
   "metadata": {},
   "source": [
    "Now lets add a \"private\" and a \"protected\" method to our Person class:"
   ]
  },
  {
   "cell_type": "code",
   "execution_count": null,
   "metadata": {},
   "outputs": [],
   "source": [
    "class Person:\n",
    "    def __init__(self, first_name, egn):\n",
    "        self.first_name = first_name\n",
    "        self._egn = egn\n",
    "\n",
    "    def greet(self, name):\n",
    "        print(f\"Hello there, {name}!\")\n",
    "\n",
    "    def _tell_a_truth(self, truth):\n",
    "        self.__activate_brain()\n",
    "        print(f\"My friend, the truth is: {truth}\")\n",
    "\n",
    "    def __activate_brain(self):\n",
    "        print(f\"Activating the brain of {self.first_name}...\")\n",
    "\n",
    "\n",
    "class Student(Person):\n",
    "    def __init__(self, first_name, egn, fn):\n",
    "        self.fn = fn\n",
    "        super().__init__(first_name, egn)\n",
    "\n",
    "    def introduce(self):\n",
    "        print(f\"Yo, man, this is {self.first_name}! My fn is {self.fn}.\")"
   ]
  },
  {
   "cell_type": "markdown",
   "metadata": {},
   "source": [
    "Protected methods can be accessed by an instance of the class and subclasses:"
   ]
  },
  {
   "cell_type": "code",
   "execution_count": null,
   "metadata": {},
   "outputs": [],
   "source": [
    "p = Person(\"Mitko\", 8999)\n",
    "p._tell_a_truth(\"Cats are better than cows.\")\n",
    "\n",
    "s1 = Student(\"Brad\", 1234, \"4MI0900012\")\n",
    "s1._tell_a_truth(\"Caesar was a good man.\")"
   ]
  },
  {
   "cell_type": "markdown",
   "metadata": {},
   "source": [
    "But private methods  can not be accessed directly - their name is changed to avoid accidental overrides when inheritance is included.:"
   ]
  },
  {
   "cell_type": "code",
   "execution_count": null,
   "metadata": {},
   "outputs": [],
   "source": [
    "try:\n",
    "    p.__activate_brain()\n",
    "except AttributeError as e:\n",
    "    print(e)\n",
    "\n",
    "p._Person__activate_brain()\n",
    "s1._Person__activate_brain()"
   ]
  },
  {
   "cell_type": "markdown",
   "metadata": {},
   "source": [
    "An example of multiple inheritance from the Python course:"
   ]
  },
  {
   "cell_type": "code",
   "execution_count": null,
   "metadata": {},
   "outputs": [],
   "source": [
    "class Инженер:\n",
    "    def introduce(self):\n",
    "        return \"инж.\"\n",
    "    \n",
    "class Академик:\n",
    "    def introduce(self):\n",
    "        return \"акад.\"\n",
    "    \n",
    "class Професор:\n",
    "    def introduce(self):\n",
    "        return \"проф.\"\n",
    "    \n",
    "class Сульо(Академик, Професор, Инженер):\n",
    "    pass\n",
    "\n",
    "сульо = Сульо()\n",
    "сульо.introduce() # ?"
   ]
  },
  {
   "cell_type": "markdown",
   "metadata": {},
   "source": [
    "[Link](https://py-fmi.org/media/materials/07._OOP_2.pdf) to more cool examples including the difference between:\n",
    "- \\_\\_getitem\\_\\_\n",
    "- \\_\\_setitem\\_\\_\n",
    "- \\_\\_getattr\\_\\_\n",
    "- \\_\\_setattr\\_\\_\n",
    "- \\_\\_getattribute\\_\\_"
   ]
  }
 ],
 "metadata": {
  "kernelspec": {
   "display_name": "Python 3",
   "language": "python",
   "name": "python3"
  },
  "language_info": {
   "codemirror_mode": {
    "name": "ipython",
    "version": 3
   },
   "file_extension": ".py",
   "mimetype": "text/x-python",
   "name": "python",
   "nbconvert_exporter": "python",
   "pygments_lexer": "ipython3",
   "version": "3.10.11"
  }
 },
 "nbformat": 4,
 "nbformat_minor": 2
}
