{
 "cells": [
  {
   "cell_type": "markdown",
   "metadata": {},
   "source": [
    "# Exceptions"
   ]
  },
  {
   "cell_type": "markdown",
   "metadata": {},
   "source": [
    "The exceptions hierarchy tree: [link](https://docs.python.org/3/library/exceptions.html#exception-hierarchy)."
   ]
  },
  {
   "cell_type": "markdown",
   "metadata": {},
   "source": [
    "Lets simulate a simple IndexError:"
   ]
  },
  {
   "cell_type": "code",
   "execution_count": 213,
   "metadata": {},
   "outputs": [
    {
     "ename": "IndexError",
     "evalue": "list index out of range",
     "output_type": "error",
     "traceback": [
      "\u001b[1;31m---------------------------------------------------------------------------\u001b[0m",
      "\u001b[1;31mIndexError\u001b[0m                                Traceback (most recent call last)",
      "Cell \u001b[1;32mIn[213], line 2\u001b[0m\n\u001b[0;32m      1\u001b[0m my_list \u001b[38;5;241m=\u001b[39m [\u001b[38;5;241m1\u001b[39m,\u001b[38;5;241m2\u001b[39m,\u001b[38;5;241m3\u001b[39m,\u001b[38;5;241m4\u001b[39m,\u001b[38;5;241m5\u001b[39m]\n\u001b[1;32m----> 2\u001b[0m \u001b[43mmy_list\u001b[49m\u001b[43m[\u001b[49m\u001b[38;5;241;43m7\u001b[39;49m\u001b[43m]\u001b[49m\n",
      "\u001b[1;31mIndexError\u001b[0m: list index out of range"
     ]
    }
   ],
   "source": [
    "my_list = [1,2,3,4,5]\n",
    "my_list[7]"
   ]
  },
  {
   "cell_type": "markdown",
   "metadata": {},
   "source": [
    "And then a KeyError:"
   ]
  },
  {
   "cell_type": "code",
   "execution_count": 214,
   "metadata": {},
   "outputs": [
    {
     "ename": "KeyError",
     "evalue": "'rabbit'",
     "output_type": "error",
     "traceback": [
      "\u001b[1;31m---------------------------------------------------------------------------\u001b[0m",
      "\u001b[1;31mKeyError\u001b[0m                                  Traceback (most recent call last)",
      "Cell \u001b[1;32mIn[214], line 2\u001b[0m\n\u001b[0;32m      1\u001b[0m my_dict \u001b[38;5;241m=\u001b[39m {\u001b[38;5;124m'\u001b[39m\u001b[38;5;124mcat\u001b[39m\u001b[38;5;124m'\u001b[39m: \u001b[38;5;124m'\u001b[39m\u001b[38;5;124mmeows\u001b[39m\u001b[38;5;124m'\u001b[39m, \u001b[38;5;124m'\u001b[39m\u001b[38;5;124mdog\u001b[39m\u001b[38;5;124m'\u001b[39m: \u001b[38;5;124m'\u001b[39m\u001b[38;5;124mbarks\u001b[39m\u001b[38;5;124m'\u001b[39m}\n\u001b[1;32m----> 2\u001b[0m \u001b[43mmy_dict\u001b[49m\u001b[43m[\u001b[49m\u001b[38;5;124;43m'\u001b[39;49m\u001b[38;5;124;43mrabbit\u001b[39;49m\u001b[38;5;124;43m'\u001b[39;49m\u001b[43m]\u001b[49m\n",
      "\u001b[1;31mKeyError\u001b[0m: 'rabbit'"
     ]
    }
   ],
   "source": [
    "my_dict = {'cat': 'meows', 'dog': 'barks'}\n",
    "my_dict['rabbit']"
   ]
  },
  {
   "cell_type": "markdown",
   "metadata": {},
   "source": [
    "We can catch the exception using try:"
   ]
  },
  {
   "cell_type": "code",
   "execution_count": 215,
   "metadata": {},
   "outputs": [
    {
     "name": "stdout",
     "output_type": "stream",
     "text": [
      "Animal does not exist!\n"
     ]
    }
   ],
   "source": [
    "try:\n",
    "    my_dict = {'cat': 'meows', 'dog': 'barks'}\n",
    "    my_dict['rabbit']\n",
    "except KeyError:\n",
    "    print('Animal does not exist!')"
   ]
  },
  {
   "cell_type": "markdown",
   "metadata": {},
   "source": [
    "But if the IndexError is raised first the code will break:"
   ]
  },
  {
   "cell_type": "code",
   "execution_count": 216,
   "metadata": {},
   "outputs": [
    {
     "ename": "IndexError",
     "evalue": "list index out of range",
     "output_type": "error",
     "traceback": [
      "\u001b[1;31m---------------------------------------------------------------------------\u001b[0m",
      "\u001b[1;31mIndexError\u001b[0m                                Traceback (most recent call last)",
      "Cell \u001b[1;32mIn[216], line 3\u001b[0m\n\u001b[0;32m      1\u001b[0m \u001b[38;5;28;01mtry\u001b[39;00m:\n\u001b[0;32m      2\u001b[0m     my_list \u001b[38;5;241m=\u001b[39m [\u001b[38;5;241m1\u001b[39m,\u001b[38;5;241m2\u001b[39m,\u001b[38;5;241m3\u001b[39m,\u001b[38;5;241m4\u001b[39m,\u001b[38;5;241m5\u001b[39m]\n\u001b[1;32m----> 3\u001b[0m     \u001b[43mmy_list\u001b[49m\u001b[43m[\u001b[49m\u001b[38;5;241;43m7\u001b[39;49m\u001b[43m]\u001b[49m\n\u001b[0;32m      5\u001b[0m     my_dict \u001b[38;5;241m=\u001b[39m {\u001b[38;5;124m'\u001b[39m\u001b[38;5;124mcat\u001b[39m\u001b[38;5;124m'\u001b[39m: \u001b[38;5;124m'\u001b[39m\u001b[38;5;124mmeows\u001b[39m\u001b[38;5;124m'\u001b[39m, \u001b[38;5;124m'\u001b[39m\u001b[38;5;124mdog\u001b[39m\u001b[38;5;124m'\u001b[39m: \u001b[38;5;124m'\u001b[39m\u001b[38;5;124mbarks\u001b[39m\u001b[38;5;124m'\u001b[39m}\n\u001b[0;32m      6\u001b[0m     my_dict[\u001b[38;5;124m'\u001b[39m\u001b[38;5;124mrabbit\u001b[39m\u001b[38;5;124m'\u001b[39m]\n",
      "\u001b[1;31mIndexError\u001b[0m: list index out of range"
     ]
    }
   ],
   "source": [
    "try:\n",
    "    my_list = [1,2,3,4,5]\n",
    "    my_list[7]\n",
    "\n",
    "    my_dict = {'cat': 'meows', 'dog': 'barks'}\n",
    "    my_dict['rabbit']\n",
    "except KeyError:\n",
    "    print('Animal does not exist!')"
   ]
  },
  {
   "cell_type": "markdown",
   "metadata": {},
   "source": [
    "The try-except structure allows multiple excepts:"
   ]
  },
  {
   "cell_type": "code",
   "execution_count": 217,
   "metadata": {},
   "outputs": [
    {
     "name": "stdout",
     "output_type": "stream",
     "text": [
      "Invalid index!\n"
     ]
    }
   ],
   "source": [
    "try:\n",
    "    my_list = [1,2,3,4,5]\n",
    "    my_list[7]\n",
    "\n",
    "    my_dict = {'cat': 'meows', 'dog': 'barks'}\n",
    "    my_dict['rabbit']\n",
    "except IndexError:\n",
    "    print('Invalid index!')\n",
    "except KeyError:\n",
    "    print('Animal does not exist!')"
   ]
  },
  {
   "cell_type": "markdown",
   "metadata": {},
   "source": [
    "We can even group them in tuples:"
   ]
  },
  {
   "cell_type": "code",
   "execution_count": 218,
   "metadata": {},
   "outputs": [
    {
     "name": "stdout",
     "output_type": "stream",
     "text": [
      "Something is wrong, I can feel it!\n"
     ]
    }
   ],
   "source": [
    "try:\n",
    "    my_list = [1,2,3,4,5]\n",
    "    my_list[7]\n",
    "\n",
    "    my_dict = {'cat': 'meows', 'dog': 'barks'}\n",
    "    my_dict['rabbit']\n",
    "except (IndexError, KeyError):\n",
    "    print('Something is wrong, I can feel it!')"
   ]
  },
  {
   "cell_type": "markdown",
   "metadata": {},
   "source": [
    "We can also catch a more general exception:"
   ]
  },
  {
   "cell_type": "code",
   "execution_count": 219,
   "metadata": {},
   "outputs": [
    {
     "name": "stdout",
     "output_type": "stream",
     "text": [
      "Anything could be wrong, I know it!\n"
     ]
    }
   ],
   "source": [
    "try:\n",
    "    my_list = [1,2,3,4,5]\n",
    "    my_list[7]\n",
    "\n",
    "    my_dict = {'cat': 'meows', 'dog': 'barks'}\n",
    "    my_dict['rabbit']\n",
    "except Exception:\n",
    "    print('Anything could be wrong, I know it!')"
   ]
  },
  {
   "cell_type": "markdown",
   "metadata": {},
   "source": [
    "Checking the hierarchy we can see that they are still some exceptions that are not descendant from the Exception class."
   ]
  },
  {
   "cell_type": "code",
   "execution_count": null,
   "metadata": {},
   "outputs": [],
   "source": [
    "try:\n",
    "    raise KeyboardInterrupt\n",
    "    my_list = [1,2,3,4,5]\n",
    "    my_list[7]\n",
    "\n",
    "    my_dict = {'cat': 'meows', 'dog': 'barks'}\n",
    "    my_dict['rabbit']\n",
    "except Exception:\n",
    "    print('Anything could be wrong, I know it!')"
   ]
  },
  {
   "cell_type": "markdown",
   "metadata": {},
   "source": [
    "Both KeyError and IndexError are descendant from the LookupError class:"
   ]
  },
  {
   "cell_type": "code",
   "execution_count": 220,
   "metadata": {},
   "outputs": [
    {
     "name": "stdout",
     "output_type": "stream",
     "text": [
      "You are using a bad look up my man!\n"
     ]
    }
   ],
   "source": [
    "try:\n",
    "    my_list = [1,2,3,4,5]\n",
    "    my_list[7]\n",
    "\n",
    "    my_dict = {'cat': 'meows', 'dog': 'barks'}\n",
    "    my_dict['rabbit']\n",
    "\n",
    "except LookupError:\n",
    "    print('You are using a bad look up my man!')"
   ]
  },
  {
   "cell_type": "markdown",
   "metadata": {},
   "source": [
    "A more specific exception should stand before a generalized one:"
   ]
  },
  {
   "cell_type": "code",
   "execution_count": 221,
   "metadata": {},
   "outputs": [
    {
     "name": "stdout",
     "output_type": "stream",
     "text": [
      "You are using a bad look up my man!\n"
     ]
    }
   ],
   "source": [
    "try:\n",
    "    my_list = [1,2,3,4,5]\n",
    "    my_list[7]\n",
    "\n",
    "    my_dict = {'cat': 'meows', 'dog': 'barks'}\n",
    "    my_dict['rabbit']\n",
    "except KeyError:\n",
    "    print('Animal does not exist!')\n",
    "except LookupError:\n",
    "    print('You are using a bad look up my man!')"
   ]
  },
  {
   "cell_type": "markdown",
   "metadata": {},
   "source": [
    "This way we can catch the more specific one:"
   ]
  },
  {
   "cell_type": "code",
   "execution_count": 222,
   "metadata": {},
   "outputs": [
    {
     "name": "stdout",
     "output_type": "stream",
     "text": [
      "Animal does not exist!\n"
     ]
    }
   ],
   "source": [
    "try:\n",
    "    my_dict = {'cat': 'meows', 'dog': 'barks'}\n",
    "    my_dict['rabbit']\n",
    "\n",
    "    my_list = [1,2,3,4,5]\n",
    "    my_list[7]\n",
    "except KeyError:\n",
    "    print('Animal does not exist!')\n",
    "except LookupError:\n",
    "    print('You are using a bad look up my man!')"
   ]
  },
  {
   "cell_type": "markdown",
   "metadata": {},
   "source": [
    "The finally block is always executed, it does not mather if an exception has been caught..."
   ]
  },
  {
   "cell_type": "code",
   "execution_count": 223,
   "metadata": {},
   "outputs": [
    {
     "name": "stdout",
     "output_type": "stream",
     "text": [
      "Animal does not exist!\n",
      "Closing system...\n"
     ]
    }
   ],
   "source": [
    "try:\n",
    "    my_dict = {'cat': 'meows', 'dog': 'barks'}\n",
    "    my_dict['rabbit']\n",
    "\n",
    "    my_list = [1,2,3,4,5]\n",
    "    my_list[7]\n",
    "except KeyError:\n",
    "    print('Animal does not exist!')\n",
    "except LookupError:\n",
    "    print('You are using a bad look up my man!')\n",
    "finally:\n",
    "    print('Closing system...')"
   ]
  },
  {
   "cell_type": "markdown",
   "metadata": {},
   "source": [
    "It is executed even if an exception has not been caught:"
   ]
  },
  {
   "cell_type": "code",
   "execution_count": 224,
   "metadata": {},
   "outputs": [
    {
     "name": "stdout",
     "output_type": "stream",
     "text": [
      "Closing system...\n"
     ]
    },
    {
     "ename": "KeyboardInterrupt",
     "evalue": "",
     "output_type": "error",
     "traceback": [
      "\u001b[1;31m---------------------------------------------------------------------------\u001b[0m",
      "\u001b[1;31mKeyboardInterrupt\u001b[0m                         Traceback (most recent call last)",
      "Cell \u001b[1;32mIn[224], line 2\u001b[0m\n\u001b[0;32m      1\u001b[0m \u001b[38;5;28;01mtry\u001b[39;00m:\n\u001b[1;32m----> 2\u001b[0m     \u001b[38;5;28;01mraise\u001b[39;00m \u001b[38;5;167;01mKeyboardInterrupt\u001b[39;00m\n\u001b[0;32m      3\u001b[0m \u001b[38;5;28;01mexcept\u001b[39;00m \u001b[38;5;167;01mKeyError\u001b[39;00m:\n\u001b[0;32m      4\u001b[0m     \u001b[38;5;28mprint\u001b[39m(\u001b[38;5;124m'\u001b[39m\u001b[38;5;124mAnimal does not exist!\u001b[39m\u001b[38;5;124m'\u001b[39m)\n",
      "\u001b[1;31mKeyboardInterrupt\u001b[0m: "
     ]
    }
   ],
   "source": [
    "try:\n",
    "    raise KeyboardInterrupt\n",
    "except KeyError:\n",
    "    print('Animal does not exist!')\n",
    "except LookupError:\n",
    "    print('You are using a bad look up my man!')\n",
    "else:\n",
    "    print(\"You are doing great!\")\n",
    "finally:\n",
    "    print('Closing system...')"
   ]
  },
  {
   "cell_type": "markdown",
   "metadata": {},
   "source": [
    "However, the Else block is executed only if there was not exception raised, the happy path:"
   ]
  },
  {
   "cell_type": "code",
   "execution_count": 225,
   "metadata": {},
   "outputs": [
    {
     "name": "stdout",
     "output_type": "stream",
     "text": [
      "You are doing great!\n",
      "Closing system...\n"
     ]
    }
   ],
   "source": [
    "try:\n",
    "    pass\n",
    "except KeyError:\n",
    "    print('Animal does not exist!')\n",
    "except LookupError:\n",
    "    print('You are using a bad look up my man!')\n",
    "else:\n",
    "    print(\"You are doing great!\")\n",
    "finally:\n",
    "    print('Closing system...')"
   ]
  },
  {
   "cell_type": "markdown",
   "metadata": {},
   "source": [
    "We can use an empty except block to catch all other exception but this is generally considered a bad practice:"
   ]
  },
  {
   "cell_type": "code",
   "execution_count": 226,
   "metadata": {},
   "outputs": [
    {
     "name": "stdout",
     "output_type": "stream",
     "text": [
      "The big boss has come to clean! No one knows what happened!\n",
      "Closing system...\n"
     ]
    }
   ],
   "source": [
    "try:\n",
    "    raise KeyboardInterrupt\n",
    "except KeyError:\n",
    "    print('Animal does not exist!')\n",
    "except LookupError:\n",
    "    print('You are using a bad look up my man!')\n",
    "except:\n",
    "    print('The big boss has come to clean! No one knows what happened!')\n",
    "else:\n",
    "    print(\"You are doing great!\")\n",
    "finally:\n",
    "    print('Closing system...')"
   ]
  },
  {
   "cell_type": "markdown",
   "metadata": {},
   "source": [
    "We can save the caught exception as a variable using the following syntax:"
   ]
  },
  {
   "cell_type": "code",
   "execution_count": null,
   "metadata": {},
   "outputs": [],
   "source": [
    "try:\n",
    "    my_dict = {'cat': 'meows', 'dog': 'barks'}\n",
    "    my_dict['rabbit']\n",
    "except KeyError as e:\n",
    "    print(e)\n",
    "    print(e.__class__)"
   ]
  },
  {
   "cell_type": "markdown",
   "metadata": {},
   "source": [
    "Let's create our own exception and a function that raises the created exception:"
   ]
  },
  {
   "cell_type": "code",
   "execution_count": 227,
   "metadata": {},
   "outputs": [
    {
     "data": {
      "text/plain": [
       "'meows'"
      ]
     },
     "execution_count": 227,
     "metadata": {},
     "output_type": "execute_result"
    }
   ],
   "source": [
    "class AnimalException(Exception):\n",
    "    pass\n",
    "\n",
    "\n",
    "def get_animal(animal):\n",
    "    my_dict = {'cat': 'meows', 'dog': 'barks'}\n",
    "\n",
    "    if animal not in my_dict:\n",
    "        raise AnimalException\n",
    "    return my_dict[animal]\n",
    "\n",
    "\n",
    "get_animal('cat')"
   ]
  },
  {
   "cell_type": "markdown",
   "metadata": {},
   "source": [
    "It works as a normal exception. Notice the empty message:"
   ]
  },
  {
   "cell_type": "code",
   "execution_count": 228,
   "metadata": {},
   "outputs": [
    {
     "ename": "AnimalException",
     "evalue": "",
     "output_type": "error",
     "traceback": [
      "\u001b[1;31m---------------------------------------------------------------------------\u001b[0m",
      "\u001b[1;31mAnimalException\u001b[0m                           Traceback (most recent call last)",
      "Cell \u001b[1;32mIn[228], line 2\u001b[0m\n\u001b[0;32m      1\u001b[0m \u001b[38;5;28;01mtry\u001b[39;00m:\n\u001b[1;32m----> 2\u001b[0m     \u001b[43mget_animal\u001b[49m\u001b[43m(\u001b[49m\u001b[38;5;124;43m'\u001b[39;49m\u001b[38;5;124;43mrabbit\u001b[39;49m\u001b[38;5;124;43m'\u001b[39;49m\u001b[43m)\u001b[49m\n\u001b[0;32m      3\u001b[0m \u001b[38;5;28;01mexcept\u001b[39;00m \u001b[38;5;167;01mKeyError\u001b[39;00m \u001b[38;5;28;01mas\u001b[39;00m e:\n\u001b[0;32m      4\u001b[0m     \u001b[38;5;28mprint\u001b[39m(e)\n",
      "Cell \u001b[1;32mIn[227], line 9\u001b[0m, in \u001b[0;36mget_animal\u001b[1;34m(animal)\u001b[0m\n\u001b[0;32m      6\u001b[0m my_dict \u001b[38;5;241m=\u001b[39m {\u001b[38;5;124m'\u001b[39m\u001b[38;5;124mcat\u001b[39m\u001b[38;5;124m'\u001b[39m: \u001b[38;5;124m'\u001b[39m\u001b[38;5;124mmeows\u001b[39m\u001b[38;5;124m'\u001b[39m, \u001b[38;5;124m'\u001b[39m\u001b[38;5;124mdog\u001b[39m\u001b[38;5;124m'\u001b[39m: \u001b[38;5;124m'\u001b[39m\u001b[38;5;124mbarks\u001b[39m\u001b[38;5;124m'\u001b[39m}\n\u001b[0;32m      8\u001b[0m \u001b[38;5;28;01mif\u001b[39;00m animal \u001b[38;5;129;01mnot\u001b[39;00m \u001b[38;5;129;01min\u001b[39;00m my_dict:\n\u001b[1;32m----> 9\u001b[0m     \u001b[38;5;28;01mraise\u001b[39;00m AnimalException\n\u001b[0;32m     10\u001b[0m \u001b[38;5;28;01mreturn\u001b[39;00m my_dict[animal]\n",
      "\u001b[1;31mAnimalException\u001b[0m: "
     ]
    }
   ],
   "source": [
    "try:\n",
    "    get_animal('rabbit')\n",
    "except KeyError as e:\n",
    "    print(e)\n",
    "    print(e.__class__)"
   ]
  },
  {
   "cell_type": "markdown",
   "metadata": {},
   "source": [
    "If we raise a standard exception without specifying a message we get the same empty message after the exception:"
   ]
  },
  {
   "cell_type": "code",
   "execution_count": 229,
   "metadata": {},
   "outputs": [
    {
     "ename": "KeyError",
     "evalue": "",
     "output_type": "error",
     "traceback": [
      "\u001b[1;31m---------------------------------------------------------------------------\u001b[0m",
      "\u001b[1;31mKeyError\u001b[0m                                  Traceback (most recent call last)",
      "Cell \u001b[1;32mIn[229], line 1\u001b[0m\n\u001b[1;32m----> 1\u001b[0m \u001b[38;5;28;01mraise\u001b[39;00m \u001b[38;5;167;01mKeyError\u001b[39;00m\n",
      "\u001b[1;31mKeyError\u001b[0m: "
     ]
    }
   ],
   "source": [
    "raise KeyError"
   ]
  },
  {
   "cell_type": "markdown",
   "metadata": {},
   "source": [
    "But if we use a constructor to specify the message, we can clearly see it:"
   ]
  },
  {
   "cell_type": "code",
   "execution_count": 231,
   "metadata": {},
   "outputs": [
    {
     "name": "stdout",
     "output_type": "stream",
     "text": [
      "'This is my key error!'\n",
      "<class 'KeyError'>\n"
     ]
    }
   ],
   "source": [
    "try:\n",
    "    raise KeyError('This is my key error!')\n",
    "except KeyError as e:\n",
    "    print(e)\n",
    "    print(e.__class__)"
   ]
  },
  {
   "cell_type": "markdown",
   "metadata": {},
   "source": [
    "The same is true for our custom animal exception:"
   ]
  },
  {
   "cell_type": "code",
   "execution_count": 232,
   "metadata": {},
   "outputs": [
    {
     "name": "stdout",
     "output_type": "stream",
     "text": [
      "A tiger!\n",
      "<class '__main__.AnimalException'>\n"
     ]
    }
   ],
   "source": [
    "try:\n",
    "    raise AnimalException('A tiger!')\n",
    "except AnimalException as e:\n",
    "    print(e)\n",
    "    print(e.__class__)"
   ]
  },
  {
   "cell_type": "markdown",
   "metadata": {},
   "source": [
    "Lets add a default message on initialization:"
   ]
  },
  {
   "cell_type": "code",
   "execution_count": 233,
   "metadata": {},
   "outputs": [],
   "source": [
    "class AnimalException(Exception):\n",
    "    def __init__(self, message=\"Animal exceptions has occurred!\"):\n",
    "        self._message = message\n",
    "        super().__init__(self._message)"
   ]
  },
  {
   "cell_type": "markdown",
   "metadata": {},
   "source": [
    "We avoid seeing an empty message when one is not specified:"
   ]
  },
  {
   "cell_type": "code",
   "execution_count": 234,
   "metadata": {},
   "outputs": [
    {
     "ename": "AnimalException",
     "evalue": "Animal exceptions has occurred!",
     "output_type": "error",
     "traceback": [
      "\u001b[1;31m---------------------------------------------------------------------------\u001b[0m",
      "\u001b[1;31mAnimalException\u001b[0m                           Traceback (most recent call last)",
      "Cell \u001b[1;32mIn[234], line 1\u001b[0m\n\u001b[1;32m----> 1\u001b[0m \u001b[38;5;28;01mraise\u001b[39;00m AnimalException\n",
      "\u001b[1;31mAnimalException\u001b[0m: Animal exceptions has occurred!"
     ]
    }
   ],
   "source": [
    "raise AnimalException"
   ]
  },
  {
   "cell_type": "markdown",
   "metadata": {},
   "source": [
    "But we can still customize it:"
   ]
  },
  {
   "cell_type": "code",
   "execution_count": 235,
   "metadata": {},
   "outputs": [
    {
     "ename": "AnimalException",
     "evalue": "A tiger on the horizon!",
     "output_type": "error",
     "traceback": [
      "\u001b[1;31m---------------------------------------------------------------------------\u001b[0m",
      "\u001b[1;31mAnimalException\u001b[0m                           Traceback (most recent call last)",
      "Cell \u001b[1;32mIn[235], line 1\u001b[0m\n\u001b[1;32m----> 1\u001b[0m \u001b[38;5;28;01mraise\u001b[39;00m AnimalException(\u001b[38;5;124m\"\u001b[39m\u001b[38;5;124mA tiger on the horizon!\u001b[39m\u001b[38;5;124m\"\u001b[39m)\n",
      "\u001b[1;31mAnimalException\u001b[0m: A tiger on the horizon!"
     ]
    }
   ],
   "source": [
    "raise AnimalException(\"A tiger on the horizon!\")"
   ]
  },
  {
   "cell_type": "markdown",
   "metadata": {},
   "source": [
    "And it works as expected when printing the error:"
   ]
  },
  {
   "cell_type": "code",
   "execution_count": 236,
   "metadata": {},
   "outputs": [
    {
     "name": "stdout",
     "output_type": "stream",
     "text": [
      "A tiger on the horizon!\n",
      "<class '__main__.AnimalException'>\n"
     ]
    }
   ],
   "source": [
    "try:\n",
    "    raise AnimalException(\"A tiger on the horizon!\")\n",
    "except AnimalException as e:\n",
    "    print(e)\n",
    "    print(e.__class__)"
   ]
  },
  {
   "cell_type": "markdown",
   "metadata": {},
   "source": [
    "But what happens if we define a \\_\\_str\\_\\_ method to our animal exception?"
   ]
  },
  {
   "cell_type": "code",
   "execution_count": 238,
   "metadata": {},
   "outputs": [],
   "source": [
    "class AnimalException(Exception):\n",
    "    def __init__(self, message=\"Animal exceptions has occurred!\"):\n",
    "        self._message = message\n",
    "        super().__init__(self._message)\n",
    "\n",
    "    def __str__(self):\n",
    "        return \"Roooooar\""
   ]
  },
  {
   "cell_type": "markdown",
   "metadata": {},
   "source": [
    "As we can see it overrides the printing behavior when the exception is raised:"
   ]
  },
  {
   "cell_type": "code",
   "execution_count": 240,
   "metadata": {},
   "outputs": [
    {
     "ename": "AnimalException",
     "evalue": "Roooooar",
     "output_type": "error",
     "traceback": [
      "\u001b[1;31m---------------------------------------------------------------------------\u001b[0m",
      "\u001b[1;31mAnimalException\u001b[0m                           Traceback (most recent call last)",
      "Cell \u001b[1;32mIn[240], line 1\u001b[0m\n\u001b[1;32m----> 1\u001b[0m \u001b[38;5;28;01mraise\u001b[39;00m AnimalException(\u001b[38;5;124m'\u001b[39m\u001b[38;5;124mA bad lion I see!\u001b[39m\u001b[38;5;124m'\u001b[39m)\n",
      "\u001b[1;31mAnimalException\u001b[0m: Roooooar"
     ]
    }
   ],
   "source": [
    "raise AnimalException('A bad lion I see!')"
   ]
  },
  {
   "cell_type": "markdown",
   "metadata": {},
   "source": [
    "And the same goes for printing the exception:"
   ]
  },
  {
   "cell_type": "code",
   "execution_count": 241,
   "metadata": {},
   "outputs": [
    {
     "name": "stdout",
     "output_type": "stream",
     "text": [
      "Roooooar\n",
      "<class '__main__.AnimalException'>\n"
     ]
    }
   ],
   "source": [
    "try:\n",
    "    raise AnimalException(\"A tiger on the horizon!\")\n",
    "except AnimalException as e:\n",
    "    print(e)\n",
    "    print(e.__class__)"
   ]
  },
  {
   "cell_type": "markdown",
   "metadata": {},
   "source": [
    "So what does the \\_\\_repr\\_\\_ function do?"
   ]
  },
  {
   "cell_type": "code",
   "execution_count": 245,
   "metadata": {},
   "outputs": [],
   "source": [
    "class AnimalException(Exception):\n",
    "    def __init__(self, message=\"Animal exceptions has occurred!\"):\n",
    "        self._message = message\n",
    "        super().__init__(self._message)\n",
    "\n",
    "    def __str__(self):\n",
    "        return \"Roooooar\"\n",
    "    \n",
    "    def __repr__(self):\n",
    "        return \"You are a good developer!\""
   ]
  },
  {
   "cell_type": "markdown",
   "metadata": {},
   "source": [
    "Let's create a variable that stores our animal exception."
   ]
  },
  {
   "cell_type": "code",
   "execution_count": 246,
   "metadata": {},
   "outputs": [],
   "source": [
    "my_exception = AnimalException()"
   ]
  },
  {
   "cell_type": "markdown",
   "metadata": {},
   "source": [
    "If we print the exception we get the value from the \\_\\_str\\_\\_ method:"
   ]
  },
  {
   "cell_type": "code",
   "execution_count": 247,
   "metadata": {},
   "outputs": [
    {
     "name": "stdout",
     "output_type": "stream",
     "text": [
      "Roooooar\n"
     ]
    }
   ],
   "source": [
    "print(my_exception)"
   ]
  },
  {
   "cell_type": "markdown",
   "metadata": {},
   "source": [
    "But when debugging is used by the developer the \\_\\_repr\\_\\_ function will be called:"
   ]
  },
  {
   "cell_type": "code",
   "execution_count": 248,
   "metadata": {},
   "outputs": [
    {
     "data": {
      "text/plain": [
       "You are a good developer!"
      ]
     },
     "execution_count": 248,
     "metadata": {},
     "output_type": "execute_result"
    }
   ],
   "source": [
    "my_exception"
   ]
  },
  {
   "cell_type": "markdown",
   "metadata": {},
   "source": [
    "Same goes for a lot of object from different classes such as the datetime object:"
   ]
  },
  {
   "cell_type": "code",
   "execution_count": 249,
   "metadata": {},
   "outputs": [
    {
     "name": "stdout",
     "output_type": "stream",
     "text": [
      "2024-04-14 01:37:37.739225\n"
     ]
    },
    {
     "data": {
      "text/plain": [
       "datetime.datetime(2024, 4, 14, 1, 37, 37, 739225)"
      ]
     },
     "execution_count": 249,
     "metadata": {},
     "output_type": "execute_result"
    }
   ],
   "source": [
    "import datetime\n",
    "today = datetime.datetime.now()\n",
    "\n",
    "print(today)\n",
    "today"
   ]
  },
  {
   "cell_type": "markdown",
   "metadata": {},
   "source": [
    "Let's create a tiger exception that inherits from the animal exception:"
   ]
  },
  {
   "cell_type": "code",
   "execution_count": 250,
   "metadata": {},
   "outputs": [],
   "source": [
    "class AnimalException(Exception):\n",
    "    def __init__(self, message=\"Animal exceptions has occurred!\"):\n",
    "        print(\"Creating an animal exception...\")\n",
    "\n",
    "        self._message = message\n",
    "        super().__init__(self._message)\n",
    "\n",
    "        print(\"Finished creating an animal exception!\")\n",
    "\n",
    "\n",
    "class TigerException(AnimalException):\n",
    "    def __init__(self, message='A tiger has appeared!', roar='Grrrrr'):\n",
    "        print(\"Creating a tiger exception...\", roar)\n",
    "\n",
    "        self._tiger_roar = roar\n",
    "        super().__init__(message)\n",
    "\n",
    "        print(\"Finished creating a tiger exception!\", roar)"
   ]
  },
  {
   "cell_type": "markdown",
   "metadata": {},
   "source": [
    "It works as a normal exception but note the steps required to create the tiger exception:"
   ]
  },
  {
   "cell_type": "code",
   "execution_count": 251,
   "metadata": {},
   "outputs": [
    {
     "name": "stdout",
     "output_type": "stream",
     "text": [
      "Creating a tiger exception... Grrrrr\n",
      "Creating an animal exception...\n",
      "Finished creating an animal exception!\n",
      "Finished creating a tiger exception! Grrrrr\n"
     ]
    },
    {
     "ename": "TigerException",
     "evalue": "A tiger has appeared!",
     "output_type": "error",
     "traceback": [
      "\u001b[1;31m---------------------------------------------------------------------------\u001b[0m",
      "\u001b[1;31mTigerException\u001b[0m                            Traceback (most recent call last)",
      "Cell \u001b[1;32mIn[251], line 1\u001b[0m\n\u001b[1;32m----> 1\u001b[0m \u001b[38;5;28;01mraise\u001b[39;00m TigerException()\n",
      "\u001b[1;31mTigerException\u001b[0m: A tiger has appeared!"
     ]
    }
   ],
   "source": [
    "raise TigerException()"
   ]
  },
  {
   "cell_type": "markdown",
   "metadata": {},
   "source": [
    "We can see that it is indeed a sub class of the Animal Exception:"
   ]
  },
  {
   "cell_type": "code",
   "execution_count": 252,
   "metadata": {},
   "outputs": [
    {
     "name": "stdout",
     "output_type": "stream",
     "text": [
      "Creating a tiger exception... Grrrrr\n",
      "Creating an animal exception...\n",
      "Finished creating an animal exception!\n",
      "Finished creating a tiger exception! Grrrrr\n",
      "A tiger has appeared!\n"
     ]
    }
   ],
   "source": [
    "try:\n",
    "    raise TigerException()\n",
    "except AnimalException as e:\n",
    "    print(e)"
   ]
  },
  {
   "cell_type": "markdown",
   "metadata": {},
   "source": [
    "It has the new attribute _tiger_roar:"
   ]
  },
  {
   "cell_type": "code",
   "execution_count": 253,
   "metadata": {},
   "outputs": [
    {
     "name": "stdout",
     "output_type": "stream",
     "text": [
      "Creating a tiger exception... Grrrrr\n",
      "Creating an animal exception...\n",
      "Finished creating an animal exception!\n",
      "Finished creating a tiger exception! Grrrrr\n"
     ]
    },
    {
     "data": {
      "text/plain": [
       "'Grrrrr'"
      ]
     },
     "execution_count": 253,
     "metadata": {},
     "output_type": "execute_result"
    }
   ],
   "source": [
    "tiger_exception = TigerException('A Tiger exception')\n",
    "tiger_exception._tiger_roar"
   ]
  },
  {
   "cell_type": "markdown",
   "metadata": {},
   "source": [
    "Let's create a similar class:"
   ]
  },
  {
   "cell_type": "code",
   "execution_count": 254,
   "metadata": {},
   "outputs": [],
   "source": [
    "class LionException(AnimalException):\n",
    "    def __init__(self, message = 'A lion has appeared!', roar = 'Roaaar'):\n",
    "        print(\"Creating a lion exception...\", roar)\n",
    "\n",
    "        self._lion_roar = roar\n",
    "        super().__init__(message)\n",
    "        \n",
    "        print(\"Finished creating a lion exception!\", roar)\n"
   ]
  },
  {
   "cell_type": "markdown",
   "metadata": {},
   "source": [
    "Again it behaves as expected:"
   ]
  },
  {
   "cell_type": "code",
   "execution_count": 255,
   "metadata": {},
   "outputs": [
    {
     "name": "stdout",
     "output_type": "stream",
     "text": [
      "Creating a lion exception... Roaaar\n",
      "Creating an animal exception...\n",
      "Finished creating an animal exception!\n",
      "Finished creating a lion exception! Roaaar\n"
     ]
    },
    {
     "ename": "LionException",
     "evalue": "I am a lion exception!",
     "output_type": "error",
     "traceback": [
      "\u001b[1;31m---------------------------------------------------------------------------\u001b[0m",
      "\u001b[1;31mLionException\u001b[0m                             Traceback (most recent call last)",
      "Cell \u001b[1;32mIn[255], line 1\u001b[0m\n\u001b[1;32m----> 1\u001b[0m \u001b[38;5;28;01mraise\u001b[39;00m LionException(\u001b[38;5;124m'\u001b[39m\u001b[38;5;124mI am a lion exception!\u001b[39m\u001b[38;5;124m'\u001b[39m)\n",
      "\u001b[1;31mLionException\u001b[0m: I am a lion exception!"
     ]
    }
   ],
   "source": [
    "raise LionException('I am a lion exception!')"
   ]
  },
  {
   "cell_type": "markdown",
   "metadata": {},
   "source": [
    "And the new lion exception has it own attribute:"
   ]
  },
  {
   "cell_type": "code",
   "execution_count": null,
   "metadata": {},
   "outputs": [],
   "source": [
    "lion_exception = LionException('A Tiger exception')\n",
    "lion_exception._lion_roar"
   ]
  },
  {
   "cell_type": "markdown",
   "metadata": {},
   "source": [
    "So what happens if we create a Exception tha inherits from both the Lion Exception and the Tiger Exception:"
   ]
  },
  {
   "cell_type": "code",
   "execution_count": 256,
   "metadata": {},
   "outputs": [],
   "source": [
    "class BabyLigerException(LionException, TigerException):\n",
    "    pass\n"
   ]
  },
  {
   "cell_type": "markdown",
   "metadata": {},
   "source": [
    "We can see that both the parent exception must be created first in order to create the new exception, but the base class animal exception in called only once:"
   ]
  },
  {
   "cell_type": "code",
   "execution_count": 257,
   "metadata": {},
   "outputs": [
    {
     "name": "stdout",
     "output_type": "stream",
     "text": [
      "Creating a lion exception... Roaaar\n",
      "Creating a tiger exception... Grrrrr\n",
      "Creating an animal exception...\n",
      "Finished creating an animal exception!\n",
      "Finished creating a tiger exception! Grrrrr\n",
      "Finished creating a lion exception! Roaaar\n"
     ]
    }
   ],
   "source": [
    "baby = BabyLigerException()"
   ]
  },
  {
   "cell_type": "markdown",
   "metadata": {},
   "source": [
    "The new exception has both the attributes of the lion class and the tiger class, as well as the animal exception _message attribute:"
   ]
  },
  {
   "cell_type": "code",
   "execution_count": 259,
   "metadata": {},
   "outputs": [
    {
     "name": "stdout",
     "output_type": "stream",
     "text": [
      "Roaaar Grrrrr\n",
      "A lion has appeared!\n"
     ]
    }
   ],
   "source": [
    "print(baby._lion_roar, baby._tiger_roar)\n",
    "print(baby._message)"
   ]
  },
  {
   "cell_type": "markdown",
   "metadata": {},
   "source": [
    "Notice how the _message attribute is set to a lion, that is because of the Method Resolution Order, Lion is the first class to inherit from... so if tiger is the first class to inherit from..."
   ]
  },
  {
   "cell_type": "code",
   "execution_count": 260,
   "metadata": {},
   "outputs": [],
   "source": [
    "class BabyTigonException(TigerException, LionException):\n",
    "    def __init__(self, message = \"A new king was born - Simba!\", roar = \"Simbaaa!\"):\n",
    "        super().__init__(message, roar)"
   ]
  },
  {
   "cell_type": "markdown",
   "metadata": {},
   "source": [
    "We can see the order of creation is similar, but this time the tiger constructor is called first:"
   ]
  },
  {
   "cell_type": "code",
   "execution_count": 267,
   "metadata": {},
   "outputs": [
    {
     "name": "stdout",
     "output_type": "stream",
     "text": [
      "Creating a tiger exception... Simbaaa!\n",
      "Creating a lion exception... Roaaar\n",
      "Creating an animal exception...\n",
      "Finished creating an animal exception!\n",
      "Finished creating a lion exception! Roaaar\n",
      "Finished creating a tiger exception! Simbaaa!\n"
     ]
    }
   ],
   "source": [
    "simba = BabyTigonException()"
   ]
  },
  {
   "cell_type": "markdown",
   "metadata": {},
   "source": [
    "So if we raise the new exception we expect?"
   ]
  },
  {
   "cell_type": "code",
   "execution_count": 268,
   "metadata": {},
   "outputs": [
    {
     "ename": "BabyTigonException",
     "evalue": "A new king was born - Simba!",
     "output_type": "error",
     "traceback": [
      "\u001b[1;31m---------------------------------------------------------------------------\u001b[0m",
      "\u001b[1;31mBabyTigonException\u001b[0m                        Traceback (most recent call last)",
      "Cell \u001b[1;32mIn[268], line 1\u001b[0m\n\u001b[1;32m----> 1\u001b[0m \u001b[38;5;28;01mraise\u001b[39;00m simba\n",
      "\u001b[1;31mBabyTigonException\u001b[0m: A new king was born - Simba!"
     ]
    }
   ],
   "source": [
    "raise simba"
   ]
  }
 ],
 "metadata": {
  "kernelspec": {
   "display_name": "Python 3",
   "language": "python",
   "name": "python3"
  },
  "language_info": {
   "codemirror_mode": {
    "name": "ipython",
    "version": 3
   },
   "file_extension": ".py",
   "mimetype": "text/x-python",
   "name": "python",
   "nbconvert_exporter": "python",
   "pygments_lexer": "ipython3",
   "version": "3.10.11"
  }
 },
 "nbformat": 4,
 "nbformat_minor": 2
}
