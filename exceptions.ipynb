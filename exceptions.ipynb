{
 "cells": [
  {
   "cell_type": "markdown",
   "metadata": {},
   "source": [
    "# Exceptions"
   ]
  },
  {
   "cell_type": "markdown",
   "metadata": {},
   "source": [
    "The exceptions hierarchy tree: [link](https://docs.python.org/3/library/exceptions.html#exception-hierarchy)."
   ]
  },
  {
   "cell_type": "markdown",
   "metadata": {},
   "source": [
    "Lets simulate a simple IndexError:"
   ]
  },
  {
   "cell_type": "code",
   "execution_count": null,
   "metadata": {},
   "outputs": [],
   "source": [
    "my_list = [1,2,3,4,5]\n",
    "my_list[7]"
   ]
  },
  {
   "cell_type": "markdown",
   "metadata": {},
   "source": [
    "And then a KeyError:"
   ]
  },
  {
   "cell_type": "code",
   "execution_count": null,
   "metadata": {},
   "outputs": [],
   "source": [
    "my_dict = {'cat': 'meows', 'dog': 'barks'}\n",
    "my_dict['rabbit']"
   ]
  },
  {
   "cell_type": "markdown",
   "metadata": {},
   "source": [
    "We can catch the exception using try:"
   ]
  },
  {
   "cell_type": "code",
   "execution_count": null,
   "metadata": {},
   "outputs": [],
   "source": [
    "try:\n",
    "    my_dict = {'cat': 'meows', 'dog': 'barks'}\n",
    "    my_dict['rabbit']\n",
    "except KeyError:\n",
    "    print('Animal does not exist!')"
   ]
  },
  {
   "cell_type": "markdown",
   "metadata": {},
   "source": [
    "But if the IndexError is raised first the code will break:"
   ]
  },
  {
   "cell_type": "code",
   "execution_count": null,
   "metadata": {},
   "outputs": [],
   "source": [
    "try:\n",
    "    my_list = [1,2,3,4,5]\n",
    "    my_list[7]\n",
    "\n",
    "    my_dict = {'cat': 'meows', 'dog': 'barks'}\n",
    "    my_dict['rabbit']\n",
    "except KeyError:\n",
    "    print('Animal does not exist!')"
   ]
  },
  {
   "cell_type": "markdown",
   "metadata": {},
   "source": [
    "The try-except structure allows multiple excepts:"
   ]
  },
  {
   "cell_type": "code",
   "execution_count": null,
   "metadata": {},
   "outputs": [],
   "source": [
    "try:\n",
    "    my_list = [1,2,3,4,5]\n",
    "    my_list[7]\n",
    "\n",
    "    my_dict = {'cat': 'meows', 'dog': 'barks'}\n",
    "    my_dict['rabbit']\n",
    "except IndexError:\n",
    "    print('Invalid index!')\n",
    "except KeyError:\n",
    "    print('Animal does not exist!')"
   ]
  },
  {
   "cell_type": "markdown",
   "metadata": {},
   "source": [
    "We can even group them in tuples:"
   ]
  },
  {
   "cell_type": "code",
   "execution_count": null,
   "metadata": {},
   "outputs": [],
   "source": [
    "try:\n",
    "    my_list = [1,2,3,4,5]\n",
    "    my_list[7]\n",
    "\n",
    "    my_dict = {'cat': 'meows', 'dog': 'barks'}\n",
    "    my_dict['rabbit']\n",
    "except (IndexError, KeyError):\n",
    "    print('Something is wrong, I can feel it!')"
   ]
  },
  {
   "cell_type": "markdown",
   "metadata": {},
   "source": [
    "We can also catch a more general exception:"
   ]
  },
  {
   "cell_type": "code",
   "execution_count": null,
   "metadata": {},
   "outputs": [],
   "source": [
    "try:\n",
    "    my_list = [1,2,3,4,5]\n",
    "    my_list[7]\n",
    "\n",
    "    my_dict = {'cat': 'meows', 'dog': 'barks'}\n",
    "    my_dict['rabbit']\n",
    "except Exception:\n",
    "    print('Anything could be wrong, I know it!')"
   ]
  },
  {
   "cell_type": "markdown",
   "metadata": {},
   "source": [
    "Checking the hierarchy we can see that they are still some exceptions that are not descendant from the Exception class."
   ]
  },
  {
   "cell_type": "code",
   "execution_count": null,
   "metadata": {},
   "outputs": [],
   "source": [
    "try:\n",
    "    raise KeyboardInterrupt\n",
    "    my_list = [1,2,3,4,5]\n",
    "    my_list[7]\n",
    "\n",
    "    my_dict = {'cat': 'meows', 'dog': 'barks'}\n",
    "    my_dict['rabbit']\n",
    "except Exception:\n",
    "    print('Anything could be wrong, I know it!')"
   ]
  },
  {
   "cell_type": "markdown",
   "metadata": {},
   "source": [
    "Both KeyError and IndexError are descendant from the LookupError class:"
   ]
  },
  {
   "cell_type": "code",
   "execution_count": null,
   "metadata": {},
   "outputs": [],
   "source": [
    "try:\n",
    "    my_list = [1,2,3,4,5]\n",
    "    my_list[7]\n",
    "\n",
    "    my_dict = {'cat': 'meows', 'dog': 'barks'}\n",
    "    my_dict['rabbit']\n",
    "\n",
    "except LookupError:\n",
    "    print('You are using a bad look up my man!')"
   ]
  },
  {
   "cell_type": "markdown",
   "metadata": {},
   "source": [
    "A more specific exception should stand before a generalized one:"
   ]
  },
  {
   "cell_type": "code",
   "execution_count": null,
   "metadata": {},
   "outputs": [],
   "source": [
    "try:\n",
    "    my_list = [1,2,3,4,5]\n",
    "    my_list[7]\n",
    "\n",
    "    my_dict = {'cat': 'meows', 'dog': 'barks'}\n",
    "    my_dict['rabbit']\n",
    "except KeyError:\n",
    "    print('Animal does not exist!')\n",
    "except LookupError:\n",
    "    print('You are using a bad look up my man!')"
   ]
  },
  {
   "cell_type": "markdown",
   "metadata": {},
   "source": [
    "This way we can catch the more specific one:"
   ]
  },
  {
   "cell_type": "code",
   "execution_count": null,
   "metadata": {},
   "outputs": [],
   "source": [
    "try:\n",
    "    my_dict = {'cat': 'meows', 'dog': 'barks'}\n",
    "    my_dict['rabbit']\n",
    "\n",
    "    my_list = [1,2,3,4,5]\n",
    "    my_list[7]\n",
    "except KeyError:\n",
    "    print('Animal does not exist!')\n",
    "except LookupError:\n",
    "    print('You are using a bad look up my man!')"
   ]
  },
  {
   "cell_type": "markdown",
   "metadata": {},
   "source": [
    "The finally block is always executed, it does not mather if an exception has been caught..."
   ]
  },
  {
   "cell_type": "code",
   "execution_count": null,
   "metadata": {},
   "outputs": [],
   "source": [
    "try:\n",
    "    my_dict = {'cat': 'meows', 'dog': 'barks'}\n",
    "    my_dict['rabbit']\n",
    "\n",
    "    my_list = [1,2,3,4,5]\n",
    "    my_list[7]\n",
    "except KeyError:\n",
    "    print('Animal does not exist!')\n",
    "except LookupError:\n",
    "    print('You are using a bad look up my man!')\n",
    "finally:\n",
    "    print('Closing system...')"
   ]
  },
  {
   "cell_type": "markdown",
   "metadata": {},
   "source": [
    "It is executed even if an exception has not been caught:"
   ]
  },
  {
   "cell_type": "code",
   "execution_count": null,
   "metadata": {},
   "outputs": [],
   "source": [
    "try:\n",
    "    raise KeyboardInterrupt\n",
    "except KeyError:\n",
    "    print('Animal does not exist!')\n",
    "except LookupError:\n",
    "    print('You are using a bad look up my man!')\n",
    "else:\n",
    "    print(\"You are doing great!\")\n",
    "finally:\n",
    "    print('Closing system...')"
   ]
  },
  {
   "cell_type": "markdown",
   "metadata": {},
   "source": [
    "However, the Else block is executed only if there was not exception raised, the happy path:"
   ]
  },
  {
   "cell_type": "code",
   "execution_count": null,
   "metadata": {},
   "outputs": [],
   "source": [
    "try:\n",
    "    pass\n",
    "except KeyError:\n",
    "    print('Animal does not exist!')\n",
    "except LookupError:\n",
    "    print('You are using a bad look up my man!')\n",
    "else:\n",
    "    print(\"You are doing great!\")\n",
    "finally:\n",
    "    print('Closing system...')"
   ]
  },
  {
   "cell_type": "markdown",
   "metadata": {},
   "source": [
    "We can use an empty except block to catch all other exception but this is generally considered a bad practice:"
   ]
  },
  {
   "cell_type": "code",
   "execution_count": null,
   "metadata": {},
   "outputs": [],
   "source": [
    "try:\n",
    "    raise KeyboardInterrupt\n",
    "except KeyError:\n",
    "    print('Animal does not exist!')\n",
    "except LookupError:\n",
    "    print('You are using a bad look up my man!')\n",
    "except:\n",
    "    print('The big boss has come to clean! No one knows what happened!')\n",
    "else:\n",
    "    print(\"You are doing great!\")\n",
    "finally:\n",
    "    print('Closing system...')"
   ]
  },
  {
   "cell_type": "markdown",
   "metadata": {},
   "source": [
    "We can save the caught exception as a variable using the following syntax:"
   ]
  },
  {
   "cell_type": "code",
   "execution_count": null,
   "metadata": {},
   "outputs": [],
   "source": [
    "try:\n",
    "    my_dict = {'cat': 'meows', 'dog': 'barks'}\n",
    "    my_dict['rabbit']\n",
    "except KeyError as e:\n",
    "    print(e)\n",
    "    print(e.__class__)"
   ]
  },
  {
   "cell_type": "markdown",
   "metadata": {},
   "source": [
    "Let's create our own exception and a function that raises the created exception:"
   ]
  },
  {
   "cell_type": "code",
   "execution_count": null,
   "metadata": {},
   "outputs": [],
   "source": [
    "class AnimalException(Exception):\n",
    "    pass\n",
    "\n",
    "\n",
    "def get_animal(animal):\n",
    "    my_dict = {'cat': 'meows', 'dog': 'barks'}\n",
    "\n",
    "    if animal not in my_dict:\n",
    "        raise AnimalException\n",
    "    return my_dict[animal]\n",
    "\n",
    "\n",
    "get_animal('cat')"
   ]
  },
  {
   "cell_type": "markdown",
   "metadata": {},
   "source": [
    "It works as a normal exception. Notice the empty message:"
   ]
  },
  {
   "cell_type": "code",
   "execution_count": null,
   "metadata": {},
   "outputs": [],
   "source": [
    "try:\n",
    "    get_animal('rabbit')\n",
    "except KeyError as e:\n",
    "    print(e)\n",
    "    print(e.__class__)"
   ]
  },
  {
   "cell_type": "markdown",
   "metadata": {},
   "source": [
    "If we raise a standard exception without specifying a message we get the same empty message after the exception:"
   ]
  },
  {
   "cell_type": "code",
   "execution_count": null,
   "metadata": {},
   "outputs": [],
   "source": [
    "raise KeyError"
   ]
  },
  {
   "cell_type": "markdown",
   "metadata": {},
   "source": [
    "But if we use a constructor to specify the message, we can clearly see it:"
   ]
  },
  {
   "cell_type": "code",
   "execution_count": null,
   "metadata": {},
   "outputs": [],
   "source": [
    "try:\n",
    "    raise KeyError('This is my key error!')\n",
    "except KeyError as e:\n",
    "    print(e)\n",
    "    print(e.__class__)"
   ]
  },
  {
   "cell_type": "markdown",
   "metadata": {},
   "source": [
    "The same is true for our custom animal exception:"
   ]
  },
  {
   "cell_type": "code",
   "execution_count": null,
   "metadata": {},
   "outputs": [],
   "source": [
    "try:\n",
    "    raise AnimalException('A tiger!')\n",
    "except AnimalException as e:\n",
    "    print(e)\n",
    "    print(e.__class__)"
   ]
  },
  {
   "cell_type": "markdown",
   "metadata": {},
   "source": [
    "Lets add a default message on initialization:"
   ]
  },
  {
   "cell_type": "code",
   "execution_count": null,
   "metadata": {},
   "outputs": [],
   "source": [
    "class AnimalException(Exception):\n",
    "    def __init__(self, message=\"Animal exceptions has occurred!\"):\n",
    "        self._message = message\n",
    "        super().__init__(self._message)"
   ]
  },
  {
   "cell_type": "markdown",
   "metadata": {},
   "source": [
    "We avoid seeing an empty message when one is not specified:"
   ]
  },
  {
   "cell_type": "code",
   "execution_count": null,
   "metadata": {},
   "outputs": [],
   "source": [
    "raise AnimalException"
   ]
  },
  {
   "cell_type": "markdown",
   "metadata": {},
   "source": [
    "But we can still customize it:"
   ]
  },
  {
   "cell_type": "code",
   "execution_count": null,
   "metadata": {},
   "outputs": [],
   "source": [
    "raise AnimalException(\"A tiger on the horizon!\")"
   ]
  },
  {
   "cell_type": "markdown",
   "metadata": {},
   "source": [
    "And it works as expected when printing the error:"
   ]
  },
  {
   "cell_type": "code",
   "execution_count": null,
   "metadata": {},
   "outputs": [],
   "source": [
    "try:\n",
    "    raise AnimalException(\"A tiger on the horizon!\")\n",
    "except AnimalException as e:\n",
    "    print(e)\n",
    "    print(e.__class__)"
   ]
  },
  {
   "cell_type": "markdown",
   "metadata": {},
   "source": [
    "But what happens if we define a \\_\\_str\\_\\_ method to our animal exception?"
   ]
  },
  {
   "cell_type": "code",
   "execution_count": null,
   "metadata": {},
   "outputs": [],
   "source": [
    "class AnimalException(Exception):\n",
    "    def __init__(self, message=\"Animal exceptions has occurred!\"):\n",
    "        self._message = message\n",
    "        super().__init__(self._message)\n",
    "\n",
    "    def __str__(self):\n",
    "        return \"Roooooar\""
   ]
  },
  {
   "cell_type": "markdown",
   "metadata": {},
   "source": [
    "As we can see it overrides the printing behavior when the exception is raised:"
   ]
  },
  {
   "cell_type": "code",
   "execution_count": null,
   "metadata": {},
   "outputs": [],
   "source": [
    "raise AnimalException('A bad lion I see!')"
   ]
  },
  {
   "cell_type": "markdown",
   "metadata": {},
   "source": [
    "And the same goes for printing the exception:"
   ]
  },
  {
   "cell_type": "code",
   "execution_count": null,
   "metadata": {},
   "outputs": [],
   "source": [
    "try:\n",
    "    raise AnimalException(\"A tiger on the horizon!\")\n",
    "except AnimalException as e:\n",
    "    print(e)\n",
    "    print(e.__class__)"
   ]
  },
  {
   "cell_type": "markdown",
   "metadata": {},
   "source": [
    "So what does the \\_\\_repr\\_\\_ function do?"
   ]
  },
  {
   "cell_type": "code",
   "execution_count": null,
   "metadata": {},
   "outputs": [],
   "source": [
    "class AnimalException(Exception):\n",
    "    def __init__(self, message=\"Animal exceptions has occurred!\"):\n",
    "        self._message = message\n",
    "        super().__init__(self._message)\n",
    "\n",
    "    def __str__(self):\n",
    "        return \"Roooooar\"\n",
    "    \n",
    "    def __repr__(self):\n",
    "        return \"You are a good developer!\""
   ]
  },
  {
   "cell_type": "markdown",
   "metadata": {},
   "source": [
    "Let's create a variable that stores our animal exception."
   ]
  },
  {
   "cell_type": "code",
   "execution_count": null,
   "metadata": {},
   "outputs": [],
   "source": [
    "my_exception = AnimalException()"
   ]
  },
  {
   "cell_type": "markdown",
   "metadata": {},
   "source": [
    "If we print the exception we get the value from the \\_\\_str\\_\\_ method:"
   ]
  },
  {
   "cell_type": "code",
   "execution_count": null,
   "metadata": {},
   "outputs": [],
   "source": [
    "print(my_exception)"
   ]
  },
  {
   "cell_type": "markdown",
   "metadata": {},
   "source": [
    "But when debugging is used by the developer the \\_\\_repr\\_\\_ function will be called:"
   ]
  },
  {
   "cell_type": "code",
   "execution_count": null,
   "metadata": {},
   "outputs": [],
   "source": [
    "my_exception"
   ]
  },
  {
   "cell_type": "markdown",
   "metadata": {},
   "source": [
    "Same goes for a lot of object from different classes such as the datetime object:"
   ]
  },
  {
   "cell_type": "code",
   "execution_count": null,
   "metadata": {},
   "outputs": [],
   "source": [
    "import datetime\n",
    "today = datetime.datetime.now()\n",
    "\n",
    "print(today)\n",
    "today"
   ]
  },
  {
   "cell_type": "markdown",
   "metadata": {},
   "source": [
    "Let's create a tiger exception that inherits from the animal exception:"
   ]
  },
  {
   "cell_type": "code",
   "execution_count": null,
   "metadata": {},
   "outputs": [],
   "source": [
    "class AnimalException(Exception):\n",
    "    def __init__(self, message=\"Animal exceptions has occurred!\"):\n",
    "        print(\"Creating an animal exception...\")\n",
    "\n",
    "        self._message = message\n",
    "        super().__init__(self._message)\n",
    "\n",
    "        print(\"Finished creating an animal exception!\")\n",
    "\n",
    "\n",
    "class TigerException(AnimalException):\n",
    "    def __init__(self, message='A tiger has appeared!', roar='Grrrrr'):\n",
    "        print(\"Creating a tiger exception...\", roar)\n",
    "\n",
    "        self._tiger_roar = roar\n",
    "        super().__init__(message)\n",
    "\n",
    "        print(\"Finished creating a tiger exception!\", roar)"
   ]
  },
  {
   "cell_type": "markdown",
   "metadata": {},
   "source": [
    "It works as a normal exception but note the steps required to create the tiger exception:"
   ]
  },
  {
   "cell_type": "code",
   "execution_count": null,
   "metadata": {},
   "outputs": [],
   "source": [
    "raise TigerException()"
   ]
  },
  {
   "cell_type": "markdown",
   "metadata": {},
   "source": [
    "We can see that it is indeed a sub class of the Animal Exception:"
   ]
  },
  {
   "cell_type": "code",
   "execution_count": null,
   "metadata": {},
   "outputs": [],
   "source": [
    "try:\n",
    "    raise TigerException()\n",
    "except AnimalException as e:\n",
    "    print(e)"
   ]
  },
  {
   "cell_type": "markdown",
   "metadata": {},
   "source": [
    "It has the new attribute _tiger_roar:"
   ]
  },
  {
   "cell_type": "code",
   "execution_count": null,
   "metadata": {},
   "outputs": [],
   "source": [
    "tiger_exception = TigerException('A Tiger exception')\n",
    "tiger_exception._tiger_roar"
   ]
  },
  {
   "cell_type": "markdown",
   "metadata": {},
   "source": [
    "Let's create a similar class:"
   ]
  },
  {
   "cell_type": "code",
   "execution_count": null,
   "metadata": {},
   "outputs": [],
   "source": [
    "class LionException(AnimalException):\n",
    "    def __init__(self, message = 'A lion has appeared!', roar = 'Roaaar'):\n",
    "        print(\"Creating a lion exception...\", roar)\n",
    "\n",
    "        self._lion_roar = roar\n",
    "        super().__init__(message)\n",
    "        \n",
    "        print(\"Finished creating a lion exception!\", roar)\n"
   ]
  },
  {
   "cell_type": "markdown",
   "metadata": {},
   "source": [
    "Again it behaves as expected:"
   ]
  },
  {
   "cell_type": "code",
   "execution_count": null,
   "metadata": {},
   "outputs": [],
   "source": [
    "raise LionException('I am a lion exception!')"
   ]
  },
  {
   "cell_type": "markdown",
   "metadata": {},
   "source": [
    "And the new lion exception has it own attribute:"
   ]
  },
  {
   "cell_type": "code",
   "execution_count": null,
   "metadata": {},
   "outputs": [],
   "source": [
    "lion_exception = LionException('A Tiger exception')\n",
    "lion_exception._lion_roar"
   ]
  },
  {
   "cell_type": "markdown",
   "metadata": {},
   "source": [
    "So what happens if we create a Exception tha inherits from both the Lion Exception and the Tiger Exception:"
   ]
  },
  {
   "cell_type": "code",
   "execution_count": null,
   "metadata": {},
   "outputs": [],
   "source": [
    "class BabyLigerException(LionException, TigerException):\n",
    "    pass\n"
   ]
  },
  {
   "cell_type": "markdown",
   "metadata": {},
   "source": [
    "We can see that both the parent exception must be created first in order to create the new exception, but the base class animal exception in called only once:"
   ]
  },
  {
   "cell_type": "code",
   "execution_count": null,
   "metadata": {},
   "outputs": [],
   "source": [
    "baby = BabyLigerException()"
   ]
  },
  {
   "cell_type": "markdown",
   "metadata": {},
   "source": [
    "The new exception has both the attributes of the lion class and the tiger class, as well as the animal exception _message attribute:"
   ]
  },
  {
   "cell_type": "code",
   "execution_count": null,
   "metadata": {},
   "outputs": [],
   "source": [
    "print(baby._lion_roar, baby._tiger_roar)\n",
    "print(baby._message)"
   ]
  },
  {
   "cell_type": "markdown",
   "metadata": {},
   "source": [
    "Notice how the _message attribute is set to a lion, that is because of the Method Resolution Order, Lion is the first class to inherit from... so if tiger is the first class to inherit from..."
   ]
  },
  {
   "cell_type": "code",
   "execution_count": null,
   "metadata": {},
   "outputs": [],
   "source": [
    "class BabyTigonException(TigerException, LionException):\n",
    "    def __init__(self, message = \"A new king was born - Simba!\", roar = \"Simbaaa!\"):\n",
    "        super().__init__(message, roar)"
   ]
  },
  {
   "cell_type": "markdown",
   "metadata": {},
   "source": [
    "We can see the order of creation is similar, but this time the tiger constructor is called first:"
   ]
  },
  {
   "cell_type": "code",
   "execution_count": null,
   "metadata": {},
   "outputs": [],
   "source": [
    "simba = BabyTigonException()"
   ]
  },
  {
   "cell_type": "markdown",
   "metadata": {},
   "source": [
    "So if we raise the new exception we expect?"
   ]
  },
  {
   "cell_type": "code",
   "execution_count": null,
   "metadata": {},
   "outputs": [],
   "source": [
    "raise simba"
   ]
  }
 ],
 "metadata": {
  "kernelspec": {
   "display_name": "Python 3",
   "language": "python",
   "name": "python3"
  },
  "language_info": {
   "codemirror_mode": {
    "name": "ipython",
    "version": 3
   },
   "file_extension": ".py",
   "mimetype": "text/x-python",
   "name": "python",
   "nbconvert_exporter": "python",
   "pygments_lexer": "ipython3",
   "version": "3.10.11"
  }
 },
 "nbformat": 4,
 "nbformat_minor": 2
}
